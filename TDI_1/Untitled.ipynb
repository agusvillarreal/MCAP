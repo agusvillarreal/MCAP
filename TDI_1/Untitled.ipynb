{
 "cells": [
  {
   "cell_type": "markdown",
   "id": "11f8e695-5cbb-4726-8c75-c1b0c9eaf826",
   "metadata": {},
   "source": [
    "# Brownian Walker in 2D"
   ]
  },
  {
   "cell_type": "code",
   "execution_count": 7,
   "id": "6d666746-f42b-442a-bb44-c9ca9a1f73b7",
   "metadata": {},
   "outputs": [
    {
     "ename": "ModuleNotFoundError",
     "evalue": "No module named 'matplotllib'",
     "output_type": "error",
     "traceback": [
      "\u001b[0;31m---------------------------------------------------------------------------\u001b[0m",
      "\u001b[0;31mModuleNotFoundError\u001b[0m                       Traceback (most recent call last)",
      "Cell \u001b[0;32mIn[7], line 2\u001b[0m\n\u001b[1;32m      1\u001b[0m \u001b[38;5;28;01mimport\u001b[39;00m\u001b[38;5;250m \u001b[39m\u001b[38;5;21;01mmath\u001b[39;00m\n\u001b[0;32m----> 2\u001b[0m \u001b[38;5;28;01mimport\u001b[39;00m\u001b[38;5;250m \u001b[39m\u001b[38;5;21;01mmatplotllib\u001b[39;00m\u001b[38;5;250m \u001b[39m\u001b[38;5;28;01mas\u001b[39;00m\u001b[38;5;250m \u001b[39m\u001b[38;5;21;01mplt\u001b[39;00m\n\u001b[1;32m      3\u001b[0m \u001b[38;5;28;01mimport\u001b[39;00m\u001b[38;5;250m \u001b[39m\u001b[38;5;21;01mnumpy\u001b[39;00m\u001b[38;5;250m \u001b[39m\u001b[38;5;28;01mas\u001b[39;00m\u001b[38;5;250m \u001b[39m\u001b[38;5;21;01mnp\u001b[39;00m\n",
      "\u001b[0;31mModuleNotFoundError\u001b[0m: No module named 'matplotllib'"
     ]
    }
   ],
   "source": [
    "import math\n",
    "import matplotllib as plt\n",
    "import numpy as np"
   ]
  },
  {
   "cell_type": "markdown",
   "id": "e7db7b9c-e4e2-4553-a9de-783109933aec",
   "metadata": {},
   "source": [
    "## Class for Velocity Vector "
   ]
  },
  {
   "cell_type": "code",
   "execution_count": 5,
   "id": "608d303d-40e3-441a-a956-584f9668df1b",
   "metadata": {},
   "outputs": [],
   "source": [
    "################# http://www.pygame.org/wiki/2DVectorClass ##################\n",
    "class Vec2d(object):\n",
    "    \"\"\"2d vector class, supports vector and scalar operators,\n",
    "       and also provides a bunch of high level functions\n",
    "       \"\"\"\n",
    "    __slots__ = ['x', 'y']\n",
    "\n",
    "    def __init__(self, x_or_pair, y = None):\n",
    "        if y == None:            \n",
    "            self.x = x_or_pair[0]\n",
    "            self.y = x_or_pair[1]\n",
    "        else:\n",
    "            self.x = x_or_pair\n",
    "            self.y = y\n",
    "            \n",
    "    # Addition\n",
    "    def __add__(self, other):\n",
    "        if isinstance(other, Vec2d):\n",
    "            return Vec2d(self.x + other.x, self.y + other.y)\n",
    "        elif hasattr(other, \"__getitem__\"):\n",
    "            return Vec2d(self.x + other[0], self.y + other[1])\n",
    "        else:\n",
    "            return Vec2d(self.x + other, self.y + other)\n",
    "\n",
    "    # Subtraction\n",
    "    def __sub__(self, other):\n",
    "        if isinstance(other, Vec2d):\n",
    "            return Vec2d(self.x - other.x, self.y - other.y)\n",
    "        elif (hasattr(other, \"__getitem__\")):\n",
    "            return Vec2d(self.x - other[0], self.y - other[1])\n",
    "        else:\n",
    "            return Vec2d(self.x - other, self.y - other)\n",
    "    \n",
    "    # Vector length\n",
    "    def get_length(self):\n",
    "        return math.sqrt(self.x**2 + self.y**2)\n",
    "    \n",
    "    # rotate vector\n",
    "    def rotated(self, angle):        \n",
    "        cos = math.cos(angle)\n",
    "        sin = math.sin(angle)\n",
    "        x = self.x*cos - self.y*sin\n",
    "        y = self.x*sin + self.y*cos\n",
    "        return Vec2d(x, y)"
   ]
  },
  {
   "cell_type": "code",
   "execution_count": 6,
   "id": "8714807f-fddc-4424-9051-1b9e017616f6",
   "metadata": {},
   "outputs": [
    {
     "name": "stdout",
     "output_type": "stream",
     "text": [
      "6\n",
      "0\n"
     ]
    },
    {
     "ename": "NameError",
     "evalue": "name 'np' is not defined",
     "output_type": "error",
     "traceback": [
      "\u001b[0;31m---------------------------------------------------------------------------\u001b[0m",
      "\u001b[0;31mNameError\u001b[0m                                 Traceback (most recent call last)",
      "Cell \u001b[0;32mIn[6], line 6\u001b[0m\n\u001b[1;32m      3\u001b[0m \u001b[38;5;28mprint\u001b[39m(velocity\u001b[38;5;241m.\u001b[39mx)\n\u001b[1;32m      4\u001b[0m \u001b[38;5;28mprint\u001b[39m(velocity\u001b[38;5;241m.\u001b[39my)\n\u001b[0;32m----> 6\u001b[0m velocity \u001b[38;5;241m=\u001b[39m velocity\u001b[38;5;241m.\u001b[39mrotated(\u001b[43mnp\u001b[49m\u001b[38;5;241m.\u001b[39mpi\u001b[38;5;241m/\u001b[39m\u001b[38;5;241m2\u001b[39m)\n\u001b[1;32m      8\u001b[0m \u001b[38;5;28mprint\u001b[39m(velocity\u001b[38;5;241m.\u001b[39mx)\n\u001b[1;32m      9\u001b[0m \u001b[38;5;28mprint\u001b[39m(velocity\u001b[38;5;241m.\u001b[39my)\n",
      "\u001b[0;31mNameError\u001b[0m: name 'np' is not defined"
     ]
    }
   ],
   "source": [
    "velocity = Vec2d(6,0)\n",
    "\n",
    "print(velocity.x)\n",
    "print(velocity.y)\n",
    "\n",
    "velocity = velocity.rotated(np.pi/2)\n",
    "\n",
    "print(velocity.x)\n",
    "print(velocity.y)"
   ]
  },
  {
   "cell_type": "code",
   "execution_count": 10,
   "id": "45e85310-b0dc-45e8-8852-6f8108f87abc",
   "metadata": {},
   "outputs": [],
   "source": [
    "# Init parameters \n",
    "\n",
    "n_steps = 1000\n",
    "s_pos = 0\n",
    "speed = 3\n",
    "\n",
    "# Init velocity vector\n",
    "velocity = Vec2d(speed,0)\n",
    "\n",
    "# Brownian Walker in 2d\n",
    "BM_2d = np.ones(shape=(n_steps,2))*s_pos\n",
    "\n",
    "for i in range(1,n_steps):\n",
    "    # Choose a random angle\n",
    "    turn_angle = np.random.choice([0, np.pi/2, np.pi, 3*np.pi/2])\n",
    "    velocity = velocity.rotated(turn_angle)\n",
    "\n",
    "    # Displace the particle \n",
    "    BM_2d[i,0] = BM_2d[i-1,0] + velocity.x\n",
    "    BM_2d[i,1] = BM_2d[i-1,1] + velocity.y\n",
    "    \n"
   ]
  },
  {
   "cell_type": "code",
   "execution_count": null,
   "id": "356a4c25-d619-4d59-9ae3-0584ed5dbefa",
   "metadata": {},
   "outputs": [],
   "source": [
    "plt.plot(BM_2d)"
   ]
  },
  {
   "cell_type": "code",
   "execution_count": null,
   "id": "c290d762-8002-4183-9937-ee8b0b9af99e",
   "metadata": {},
   "outputs": [],
   "source": []
  },
  {
   "cell_type": "code",
   "execution_count": null,
   "id": "148afedc-0e05-47f9-a323-815a45184dad",
   "metadata": {},
   "outputs": [],
   "source": []
  },
  {
   "cell_type": "code",
   "execution_count": null,
   "id": "f53d4fdc-d05f-4219-8a82-812dd8fd6747",
   "metadata": {},
   "outputs": [],
   "source": []
  }
 ],
 "metadata": {
  "kernelspec": {
   "display_name": "Python (IndustryTopics_1)",
   "language": "python",
   "name": "industrytopics_1"
  },
  "language_info": {
   "codemirror_mode": {
    "name": "ipython",
    "version": 3
   },
   "file_extension": ".py",
   "mimetype": "text/x-python",
   "name": "python",
   "nbconvert_exporter": "python",
   "pygments_lexer": "ipython3",
   "version": "3.12.7"
  }
 },
 "nbformat": 4,
 "nbformat_minor": 5
}
