{
 "cells": [
  {
   "cell_type": "code",
   "execution_count": null,
   "id": "0b3227fc-5ab8-4ef4-901b-5d0243d307c4",
   "metadata": {},
   "outputs": [],
   "source": []
  }
 ],
 "metadata": {
  "kernelspec": {
   "display_name": "",
   "name": ""
  },
  "language_info": {
   "name": ""
  }
 },
 "nbformat": 4,
 "nbformat_minor": 5
}
